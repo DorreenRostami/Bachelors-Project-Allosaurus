{
 "cells": [
  {
   "attachments": {},
   "cell_type": "markdown",
   "metadata": {},
   "source": [
    "# Notebook for adding babble noise to audio files"
   ]
  },
  {
   "cell_type": "code",
   "execution_count": null,
   "metadata": {},
   "outputs": [],
   "source": [
    "import array\n",
    "import numpy as np\n",
    "import random\n",
    "import wave\n",
    "import os"
   ]
  },
  {
   "cell_type": "code",
   "execution_count": 2,
   "metadata": {},
   "outputs": [],
   "source": [
    "def cal_adjusted_rms(clean_rms, snr):\n",
    "    a = float(snr) / 20\n",
    "    noise_rms = clean_rms / (10**a) \n",
    "    return noise_rms\n",
    "\n",
    "def cal_amp(wf):\n",
    "    buffer = wf.readframes(wf.getnframes())\n",
    "    # The dtype depends on the value of pulse-code modulation. The int16 is set for 16-bit PCM.\n",
    "    amptitude = (np.frombuffer(buffer, dtype=\"int16\")).astype(np.float64)\n",
    "    return amptitude\n",
    "\n",
    "def cal_rms(amp):\n",
    "    return np.sqrt(np.mean(np.square(amp), axis=-1))\n",
    "\n",
    "def save_waveform(output_path, params, amp):\n",
    "    output_file = wave.Wave_write(output_path)\n",
    "    output_file.setparams(params) #nchannels, sampwidth, framerate, nframes, comptype, compname\n",
    "    output_file.writeframes(array.array('h', amp.astype(np.int16)).tobytes() )\n",
    "    output_file.close()\n",
    "\n"
   ]
  },
  {
   "cell_type": "code",
   "execution_count": 3,
   "metadata": {},
   "outputs": [],
   "source": [
    "def mix_files(clean_file, noise_file, output_mixed_file, snr=10):\n",
    "    clean_wav = wave.open(clean_file, \"r\")\n",
    "    noise_wav = wave.open(noise_file, \"r\")\n",
    "\n",
    "    clean_amp = cal_amp(clean_wav)\n",
    "    noise_amp = cal_amp(noise_wav)\n",
    "\n",
    "    clean_rms = cal_rms(clean_amp)\n",
    "\n",
    "    start = random.randint(0, len(noise_amp)-len(clean_amp))\n",
    "    divided_noise_amp = noise_amp[start: start + len(clean_amp)]\n",
    "    noise_rms = cal_rms(divided_noise_amp)\n",
    "\n",
    "    adjusted_noise_rms = cal_adjusted_rms(clean_rms, snr)\n",
    "    \n",
    "    adjusted_noise_amp = divided_noise_amp * (adjusted_noise_rms / noise_rms) \n",
    "    mixed_amp = (clean_amp + adjusted_noise_amp)\n",
    "\n",
    "    #Avoid clipping noise\n",
    "    max_int16 = np.iinfo(np.int16).max\n",
    "    min_int16 = np.iinfo(np.int16).min\n",
    "    if mixed_amp.max(axis=0) > max_int16 or mixed_amp.min(axis=0) < min_int16:\n",
    "        if mixed_amp.max(axis=0) >= abs(mixed_amp.min(axis=0)): \n",
    "            reduction_rate = max_int16 / mixed_amp.max(axis=0)\n",
    "        else :\n",
    "            reduction_rate = min_int16 / mixed_amp.min(axis=0)\n",
    "        mixed_amp = mixed_amp * (reduction_rate)\n",
    "        clean_amp = clean_amp * (reduction_rate)\n",
    "\n",
    "    save_waveform(output_mixed_file, clean_wav.getparams(), mixed_amp)"
   ]
  },
  {
   "cell_type": "code",
   "execution_count": 5,
   "metadata": {},
   "outputs": [],
   "source": [
    "for root_dir, cur_dir, files in os.walk(r'test-ntns'):\n",
    "    for fname in files:\n",
    "        mix_files(os.path.join('test-ntns', fname), \"babble.wav\", os.path.join('test-ntns-10dB', fname))"
   ]
  },
  {
   "cell_type": "code",
   "execution_count": 6,
   "metadata": {},
   "outputs": [],
   "source": [
    "for root_dir, cur_dir, files in os.walk(r'test-nts'):\n",
    "    for fname in files:\n",
    "        mix_files(os.path.join('test-nts', fname), \"babble.wav\", os.path.join('test-nts-10dB', fname))"
   ]
  },
  {
   "cell_type": "code",
   "execution_count": 7,
   "metadata": {},
   "outputs": [],
   "source": [
    "for root_dir, cur_dir, files in os.walk(r'test-target'):\n",
    "    for fname in files:\n",
    "        mix_files(os.path.join('test-target', fname), \"babble.wav\", os.path.join('test-target-10dB', fname))"
   ]
  },
  {
   "cell_type": "code",
   "execution_count": 8,
   "metadata": {},
   "outputs": [],
   "source": [
    "for root_dir, cur_dir, files in os.walk(r'validation-ntns'):\n",
    "    for fname in files:\n",
    "        mix_files(os.path.join('validation-ntns', fname), \"babble.wav\", os.path.join('validation-ntns-10dB', fname))"
   ]
  },
  {
   "cell_type": "code",
   "execution_count": 9,
   "metadata": {},
   "outputs": [],
   "source": [
    "for root_dir, cur_dir, files in os.walk(r'validation-nts'):\n",
    "    for fname in files:\n",
    "        mix_files(os.path.join('validation-nts', fname), \"babble.wav\", os.path.join('validation-nts-10dB', fname))"
   ]
  },
  {
   "cell_type": "code",
   "execution_count": 10,
   "metadata": {},
   "outputs": [],
   "source": [
    "for root_dir, cur_dir, files in os.walk(r'validation-target'):\n",
    "    for fname in files:\n",
    "        mix_files(os.path.join('validation-target', fname), \"babble.wav\", os.path.join('validation-target-10dB', fname))"
   ]
  }
 ],
 "metadata": {
  "kernelspec": {
   "display_name": "Python 3",
   "language": "python",
   "name": "python3"
  },
  "language_info": {
   "codemirror_mode": {
    "name": "ipython",
    "version": 3
   },
   "file_extension": ".py",
   "mimetype": "text/x-python",
   "name": "python",
   "nbconvert_exporter": "python",
   "pygments_lexer": "ipython3",
   "version": "3.9.13 (tags/v3.9.13:6de2ca5, May 17 2022, 16:36:42) [MSC v.1929 64 bit (AMD64)]"
  },
  "orig_nbformat": 4,
  "vscode": {
   "interpreter": {
    "hash": "d7b85f7e30fa8e0ca9fec571e41547833fe04c8641d75fbfeb4910946fdec3df"
   }
  }
 },
 "nbformat": 4,
 "nbformat_minor": 2
}
