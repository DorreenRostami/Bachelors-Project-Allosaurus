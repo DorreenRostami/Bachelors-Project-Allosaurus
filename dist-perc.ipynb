{
 "cells": [
  {
   "cell_type": "code",
   "execution_count": 1,
   "metadata": {},
   "outputs": [
    {
     "name": "stderr",
     "output_type": "stream",
     "text": [
      "c:\\Users\\dorre\\AppData\\Local\\Programs\\Python\\Python39\\lib\\site-packages\\tqdm\\auto.py:22: TqdmWarning: IProgress not found. Please update jupyter and ipywidgets. See https://ipywidgets.readthedocs.io/en/stable/user_install.html\n",
      "  from .autonotebook import tqdm as notebook_tqdm\n"
     ]
    }
   ],
   "source": [
    "from allosaurus.app import read_recognizer\n",
    "from pathlib import Path\n",
    "import matplotlib.pyplot as plt\n",
    "import numpy as np\n",
    "import os\n",
    "import statistics\n",
    "import re"
   ]
  },
  {
   "attachments": {},
   "cell_type": "markdown",
   "metadata": {},
   "source": [
    "# Section 1:\n"
   ]
  },
  {
   "attachments": {},
   "cell_type": "markdown",
   "metadata": {},
   "source": [
    "## Calculating Leveneshtein Distance and Percision using different audio files and different models. (Mostly used on FarsDat test files)"
   ]
  },
  {
   "attachments": {},
   "cell_type": "markdown",
   "metadata": {},
   "source": [
    "The following function will be used in all sections of this notebook,"
   ]
  },
  {
   "cell_type": "code",
   "execution_count": 2,
   "metadata": {},
   "outputs": [],
   "source": [
    "#list1: list of expected symbols\n",
    "#list2: list of output symbols (output of allosaurus)\n",
    "#conf: list of confidence for output symbols (output of allosaurus when k>=2)\n",
    "def levenshteinDistance(list1, list2, conf = None):\n",
    "    m = len(list1)\n",
    "    n = len(list2)\n",
    "    d = [[i] for i in range(1, m + 1)]   # d matrix rows\n",
    "    d.insert(0, list(range(0, n + 1)))   # d matrix columns\n",
    "    for j in range(1, n + 1):\n",
    "        for i in range(1, m + 1):\n",
    "            if list1[i - 1] == list2[j - 1]: #Python compares strings and characters the same way => each list element can be a single character or a string (word)\n",
    "                substitutionCost = 0\n",
    "            else:\n",
    "                if conf is None:\n",
    "                    substitutionCost = 1\n",
    "                else:\n",
    "                    substitutionCost = conf[j-1]\n",
    "            if conf is None:\n",
    "                d[i].insert(j, min(d[i - 1][j] + 1,                         #insertion to list2/deletion from list1\n",
    "                                   d[i][j - 1] + 1,                         #deletion from list2/insertion to list1\n",
    "                                   d[i - 1][j - 1] + substitutionCost))     #substitution\n",
    "            else: \n",
    "                d[i].insert(j, min(d[i - 1][j] + 1,                         #insertion to list2/deletion from list1\n",
    "                                   d[i][j - 1] + conf[j-1],                 #deletion from list2/insertion to list1\n",
    "                                   d[i - 1][j - 1] + substitutionCost))     #substitution\n",
    "    return d[-1][-1]"
   ]
  },
  {
   "cell_type": "code",
   "execution_count": 12,
   "metadata": {},
   "outputs": [
    {
     "data": {
      "text/plain": [
       "5"
      ]
     },
     "execution_count": 12,
     "metadata": {},
     "output_type": "execute_result"
    }
   ],
   "source": [
    "#test\n",
    "l1 = ['r', 'o', 'b', 'a', 't']\n",
    "l2 = ['r', 'b', 'a', 'k', 't']\n",
    "co = [1,    2,   3,   4,   5]\n",
    "dist = levenshteinDistance(l1, l2, co)\n",
    "dist"
   ]
  },
  {
   "cell_type": "code",
   "execution_count": 6,
   "metadata": {},
   "outputs": [],
   "source": [
    "#path of the audio file folder which should contain the text and wave files\n",
    "#which are explained in the allosaurus fine-tune instructions.\n",
    "parent_test_path = '.\\\\FARSDAT-parent-c100\\\\test' \n",
    "\n",
    "test_text = parent_test_path + '\\\\text'\n",
    "symbols = []\n",
    "file_names = []\n",
    "with open(test_text, encoding='utf-8') as file:\n",
    "    for line in file:\n",
    "        res = line.rstrip().split(' ')\n",
    "        symbols.append(res[1:])\n",
    "\n",
    "test_wave = parent_test_path + '\\\\wave'\n",
    "with open(test_wave, encoding='utf-8') as file:\n",
    "    for line in file:\n",
    "        res = line.rstrip().split(' ')\n",
    "        file_names.append(res[1])"
   ]
  },
  {
   "cell_type": "code",
   "execution_count": 3,
   "metadata": {},
   "outputs": [],
   "source": [
    "#use files to evaluate the model\n",
    "def eval_model(model_name):\n",
    "    #path of the folder for the files containg the result (weighted lev distance for input audio files)\n",
    "    levdis_files_path = '.\\\\output-files\\\\levdis-files-model-compare'\n",
    "    \n",
    "    recognizer = read_recognizer(model_name)\n",
    "\n",
    "    #make output file which will contain the results.\n",
    "    #remember to change the file name when using the same model!!!\n",
    "    #here, the last part of the file name is used for changing the file name\n",
    "    #so we'll also know which set of audio files are contained in the file.\n",
    "    last_part = '-train'\n",
    "    output_fd = open(os.path.join(levdis_files_path, model_name + last_part), 'w', encoding='utf-8') \n",
    "\n",
    "    for i in range(len(file_names)):\n",
    "        phones = recognizer.recognize(file_names[i], lang_id=\"pes\")\n",
    "        if phones is None:\n",
    "            continue\n",
    "        phones = phones.rstrip().split()\n",
    "        dist = levenshteinDistance(symbols[i], phones)\n",
    "        perc = (len(symbols[i])-dist)/len(symbols[i])\n",
    "        output_fd.write(file_names[i] + ' ' + str(dist) + ' ' + str(perc) + '\\n')\n",
    "    output_fd.close()"
   ]
  },
  {
   "attachments": {},
   "cell_type": "markdown",
   "metadata": {},
   "source": [
    "Use the above method to evalute a model using the files collected in 2 cells above."
   ]
  },
  {
   "cell_type": "code",
   "execution_count": null,
   "metadata": {},
   "outputs": [],
   "source": [
    "eval_model('8s100p20allrb')\n",
    "print('8s100p20allrb done')\n",
    "\n",
    "# eval_model('8s50p7')\n",
    "# print('8s50p7 done')\n",
    "# eval_model('8s50p10')\n",
    "# print('8s50p10 done')\n",
    "# eval_model('8s50p12')\n",
    "# print('8s50p12 done')\n",
    "# eval_model('8s50p14')\n",
    "# print('8s50p14 done')\n",
    "# eval_model('8s50p16')\n",
    "# print('8s50p16 done')\n",
    "# eval_model('8s50p18')\n",
    "# print('8s50p18 done')\n",
    "# eval_model('8s50p20')\n",
    "# print('8s50p20 done')"
   ]
  },
  {
   "attachments": {},
   "cell_type": "markdown",
   "metadata": {},
   "source": [
    "Now we have a folder containing some text files. In these text files, we have the Leveneshtein Distance and percision of some audio files when they were predicted by a model."
   ]
  },
  {
   "cell_type": "code",
   "execution_count": 6,
   "metadata": {},
   "outputs": [],
   "source": [
    "#First, read those text files\n",
    "input_files = []\n",
    "for root_dir, cur_dir, files in os.walk(r'.\\\\output-files\\\\levdis-files3'):\n",
    "    for fname in files:\n",
    "        input_files.append(os.path.join('output-files\\\\levdis-files3', fname))"
   ]
  },
  {
   "cell_type": "code",
   "execution_count": 14,
   "metadata": {},
   "outputs": [],
   "source": [
    "#in_files[i]: a file contaning audio file names, lev distances, and percision for a single model\n",
    "#in_files: list of files each contaning the mentioned information for different models\n",
    "#title: title of the figure\n",
    "def draw_perc(in_files, title):\n",
    "    i = 0\n",
    "    plt.rcParams[\"figure.figsize\"] = (15,5)\n",
    "    all_percs = []\n",
    "    for i in range(len(in_files)):\n",
    "        with open(in_files[i], encoding='utf-8') as file:\n",
    "            \n",
    "            #list contaning on percision written in one file (percisions for different audio files predicted by the same model)\n",
    "            percs = []\n",
    "\n",
    "            for line in file: #each line is as follows: file_name distance percision\n",
    "                res = line.rstrip().split(' ') #split on spaces\n",
    "                percs.append(float(res[2])) #res[2]: percision\n",
    "\n",
    "            #append the avg of all percision in a file (avg perc of a model) to the list\n",
    "            all_percs.append(statistics.fmean(percs))\n",
    "            i += 1\n",
    "    \n",
    "    epoch_numbers = [re.findall(r'\\d+', val) for key,val in enumerate(in_files,1)]\n",
    "    epoch_numbers = [int(col[3]) for col in epoch_numbers]   \n",
    "    plt.plot(epoch_numbers,all_percs)\n",
    "    plt.xticks(range(epoch_numbers[0] , epoch_numbers[len(epoch_numbers)-1]+1), range(epoch_numbers[0] , epoch_numbers[len(epoch_numbers)-1]+1))\n",
    "    plt.xlabel('Epoch')\n",
    "    plt.ylabel('Percision')\n",
    "    plt.title(title)  \n",
    "    plt.grid()     \n",
    "    plt.show()"
   ]
  },
  {
   "cell_type": "code",
   "execution_count": 8,
   "metadata": {},
   "outputs": [
    {
     "name": "stdout",
     "output_type": "stream",
     "text": [
      "['output-files\\\\levdis-files3\\\\8s100p07-tests', 'output-files\\\\levdis-files3\\\\8s100p10-tests', 'output-files\\\\levdis-files3\\\\8s100p12-tests', 'output-files\\\\levdis-files3\\\\8s100p14-tests', 'output-files\\\\levdis-files3\\\\8s100p16-tests', 'output-files\\\\levdis-files3\\\\8s100p18-tests', 'output-files\\\\levdis-files3\\\\8s100p20-tests', 'output-files\\\\levdis-files3\\\\8s10p01-tests', 'output-files\\\\levdis-files3\\\\8s10p02-tests', 'output-files\\\\levdis-files3\\\\8s10p03-tests', 'output-files\\\\levdis-files3\\\\8s10p04-tests', 'output-files\\\\levdis-files3\\\\8s10p05-tests', 'output-files\\\\levdis-files3\\\\8s10p06-tests', 'output-files\\\\levdis-files3\\\\8s10p07-tests', 'output-files\\\\levdis-files3\\\\8s10p08-tests', 'output-files\\\\levdis-files3\\\\8s10p09-tests', 'output-files\\\\levdis-files3\\\\8s10p10-tests', 'output-files\\\\levdis-files3\\\\8s10p11-tests', 'output-files\\\\levdis-files3\\\\8s10p12-tests', 'output-files\\\\levdis-files3\\\\8s10p13-tests', 'output-files\\\\levdis-files3\\\\8s10p14-tests', 'output-files\\\\levdis-files3\\\\8s10p15-tests', 'output-files\\\\levdis-files3\\\\8s10p16-tests', 'output-files\\\\levdis-files3\\\\8s10p17-tests', 'output-files\\\\levdis-files3\\\\8s10p18-tests', 'output-files\\\\levdis-files3\\\\8s10p19-tests', 'output-files\\\\levdis-files3\\\\8s10p20-tests', 'output-files\\\\levdis-files3\\\\8s10p21-tests', 'output-files\\\\levdis-files3\\\\8s10p22-tests', 'output-files\\\\levdis-files3\\\\8s10p23-tests', 'output-files\\\\levdis-files3\\\\8s10p24-tests', 'output-files\\\\levdis-files3\\\\8s10p25-tests', 'output-files\\\\levdis-files3\\\\8s20p01-tests', 'output-files\\\\levdis-files3\\\\8s20p02-tests', 'output-files\\\\levdis-files3\\\\8s20p03-tests', 'output-files\\\\levdis-files3\\\\8s20p04-tests', 'output-files\\\\levdis-files3\\\\8s20p05-tests', 'output-files\\\\levdis-files3\\\\8s20p06-tests', 'output-files\\\\levdis-files3\\\\8s20p07-tests', 'output-files\\\\levdis-files3\\\\8s20p08-tests', 'output-files\\\\levdis-files3\\\\8s20p09-tests', 'output-files\\\\levdis-files3\\\\8s20p10-tests', 'output-files\\\\levdis-files3\\\\8s20p11-tests', 'output-files\\\\levdis-files3\\\\8s20p12-tests', 'output-files\\\\levdis-files3\\\\8s20p13-tests', 'output-files\\\\levdis-files3\\\\8s20p14-tests', 'output-files\\\\levdis-files3\\\\8s20p15-tests', 'output-files\\\\levdis-files3\\\\8s20p16-tests', 'output-files\\\\levdis-files3\\\\8s20p17-tests', 'output-files\\\\levdis-files3\\\\8s20p18-tests', 'output-files\\\\levdis-files3\\\\8s20p19-tests', 'output-files\\\\levdis-files3\\\\8s20p20-tests', 'output-files\\\\levdis-files3\\\\8s20p21-tests', 'output-files\\\\levdis-files3\\\\8s20p22-tests', 'output-files\\\\levdis-files3\\\\8s20p23-tests', 'output-files\\\\levdis-files3\\\\8s20p24-tests', 'output-files\\\\levdis-files3\\\\8s20p25-tests', 'output-files\\\\levdis-files3\\\\8s50p07-tests', 'output-files\\\\levdis-files3\\\\8s50p10-tests', 'output-files\\\\levdis-files3\\\\8s50p12-tests', 'output-files\\\\levdis-files3\\\\8s50p14-tests', 'output-files\\\\levdis-files3\\\\8s50p16-tests', 'output-files\\\\levdis-files3\\\\8s50p18-tests', 'output-files\\\\levdis-files3\\\\8s50p20-tests', 'output-files\\\\levdis-files3\\\\uni2005s0p0-tests']\n",
      "65\n"
     ]
    }
   ],
   "source": [
    "print(input_files)\n",
    "print(len(input_files))"
   ]
  },
  {
   "attachments": {},
   "cell_type": "markdown",
   "metadata": {},
   "source": [
    "#### An example of the figure drawn by draw_perc:"
   ]
  },
  {
   "attachments": {},
   "cell_type": "markdown",
   "metadata": {},
   "source": [
    "The percision of model 8s10p with epochs 1 to 25 has been drawn as an example. This is the percision resulted from inputing the FARSDAT test files to the model."
   ]
  },
  {
   "cell_type": "code",
   "execution_count": 15,
   "metadata": {},
   "outputs": [
    {
     "data": {
      "image/png": "[encoded data removed]",
      "text/plain": [
       "<Figure size 1500x500 with 1 Axes>"
      ]
     },
     "metadata": {},
     "output_type": "display_data"
    }
   ],
   "source": [
    "draw_perc(input_files[7:32], \"Percision - Epoch for models trained on 10% of the train files\")"
   ]
  },
  {
   "attachments": {},
   "cell_type": "markdown",
   "metadata": {},
   "source": [
    "# Section 2:"
   ]
  },
  {
   "attachments": {},
   "cell_type": "markdown",
   "metadata": {},
   "source": [
    "## Calculate and process the leveneshtein distance on robat-e-beheshti files"
   ]
  },
  {
   "cell_type": "code",
   "execution_count": 3,
   "metadata": {},
   "outputs": [],
   "source": [
    "#since the initial model uses a wide range of symbols for each phone, all the possible phone arrangements need to be checked.\n",
    "t_list1 = ['r', 'o', 'b', 'ɒ', 'tʰ', 'e', 'b', 'e', 'h', 'e', 'ʃ', 'tʰ', 'i']\n",
    "t_list2 = ['r̪', 'o̞', 'b', 'ɒː', 't̠', 'e̞', 'b', 'e̞', 'h', 'e̞', 'ʃ', 't̠', 'i']\n",
    "t_list3 = ['r̪', 'o̞', 'b', 'ɒː', 't̪ʰ', 'e', 'b', 'e', 'h', 'e', 'ʃʰ', 't̪ʰ', 'iː']\n",
    "\n",
    "def levenshteinDistanceForBadUni(input_list, conf = None):\n",
    "    m = len(input_list)\n",
    "    n = len(t_list1)\n",
    "    d = [[i] for i in range(1, m + 1)]   # d matrix rows\n",
    "    d.insert(0, list(range(0, n + 1)))   # d matrix columns\n",
    "    for j in range(1, n + 1):\n",
    "        for i in range(1, m + 1):\n",
    "            if input_list[i - 1] == t_list1[j - 1] or input_list[i - 1] == t_list2[j - 1] or input_list[i - 1] == t_list3[j - 1]:\n",
    "                substitutionCost = 0\n",
    "            else:\n",
    "                if conf is None:\n",
    "                    substitutionCost = 1\n",
    "                else:\n",
    "                    substitutionCost = conf[j-1]\n",
    "            if conf is None:\n",
    "                d[i].insert(j, min(d[i - 1][j] + 1,                         #insertion to list2/deletion from list1\n",
    "                                   d[i][j - 1] + 1,                         #deletion from list2/insertion to list1\n",
    "                                   d[i - 1][j - 1] + substitutionCost))     #substitution\n",
    "            else: \n",
    "                d[i].insert(j, min(d[i - 1][j] + 1,                         #insertion to list2/deletion from list1\n",
    "                                   d[i][j - 1] + conf[j-1],                 #deletion from list2/insertion to list1\n",
    "                                   d[i - 1][j - 1] + substitutionCost))     #substitution\n",
    "    return d[-1][-1]"
   ]
  },
  {
   "cell_type": "code",
   "execution_count": 4,
   "metadata": {},
   "outputs": [],
   "source": [
    "target_phone_list = ['r', 'o', 'b', 'a', 't', 'e', 'b', 'e', 'h', 'e', 'ʃ', 't', 'i']\n",
    "\n",
    "def eval_model(filenames, model_name, output_file_name_extra, levdis_files_path):\n",
    "    recognizer = read_recognizer(model_name)\n",
    "\n",
    "    #output file for writing the results\n",
    "    output_fd = open(os.path.join(levdis_files_path, model_name + output_file_name_extra), 'w', encoding='utf-8') \n",
    "\n",
    "    for i in range(len(filenames)):\n",
    "        phones = recognizer.recognize(filenames[i], lang_id=\"pes\")\n",
    "        if phones is None:\n",
    "            continue\n",
    "        phones = phones.rstrip().split()\n",
    "\n",
    "        dist = levenshteinDistance(target_phone_list, phones)\n",
    "        # dist = levenshteinDistanceForBadUni(phones) #change to this line when model is the initial uni2005 model\n",
    "\n",
    "        output_fd.write(filenames[i] + ' ' + str(dist) + '\\n')\n",
    "    output_fd.close()\n"
   ]
  },
  {
   "attachments": {},
   "cell_type": "markdown",
   "metadata": {},
   "source": [
    "#### An example of using the above functions for evaluating model"
   ]
  },
  {
   "cell_type": "code",
   "execution_count": 6,
   "metadata": {},
   "outputs": [
    {
     "name": "stdout",
     "output_type": "stream",
     "text": [
      "ntns done\n",
      "nts done\n",
      "target done\n",
      "ntns done\n",
      "nts done\n",
      "target done\n"
     ]
    }
   ],
   "source": [
    "#folder where output text files will be written\n",
    "levdis_files_path = '.\\\\output-files\\\\levdis-files-allrb20-rb-10dB'\n",
    "\n",
    "parent_test_path = '.\\\\test-ntns-10dB' \n",
    "f1 = os.listdir(parent_test_path)\n",
    "f1 = [(parent_test_path + '\\\\' + val) for key,val in enumerate(f1,1)]\n",
    "eval_model(f1, 'allrb20', '-test-ntns', levdis_files_path)\n",
    "print('ntns done')\n",
    "\n",
    "\n",
    "parent_test_path = '.\\\\test-nts-10dB' \n",
    "f1 = os.listdir(parent_test_path)\n",
    "f1 = [(parent_test_path + '\\\\' + val) for key,val in enumerate(f1,1)]\n",
    "eval_model(f1, 'allrb20', '-test-nts', levdis_files_path)\n",
    "print('nts done')\n",
    "\n",
    "parent_test_path = '.\\\\test-target-10dB' \n",
    "f1 = os.listdir(parent_test_path)\n",
    "f1 = [(parent_test_path + '\\\\' + val) for key,val in enumerate(f1,1)]\n",
    "eval_model(f1, 'allrb20', '-test-target', levdis_files_path)\n",
    "print('target done')\n",
    "\n",
    "parent_test_path = '.\\\\validation-ntns-10dB' \n",
    "f1 = os.listdir(parent_test_path)\n",
    "f1 = [(parent_test_path + '\\\\' + val) for key,val in enumerate(f1,1)]\n",
    "eval_model(f1, 'allrb20', '-validation-ntns', levdis_files_path)\n",
    "print('ntns done')\n",
    "\n",
    "\n",
    "parent_test_path = '.\\\\validation-nts-10dB' \n",
    "f1 = os.listdir(parent_test_path)\n",
    "f1 = [(parent_test_path + '\\\\' + val) for key,val in enumerate(f1,1)]\n",
    "eval_model(f1, 'allrb20', '-validation-nts', levdis_files_path)\n",
    "print('nts done')\n",
    "\n",
    "parent_test_path = '.\\\\validation-target-10dB' \n",
    "f1 = os.listdir(parent_test_path)\n",
    "f1 = [(parent_test_path + '\\\\' + val) for key,val in enumerate(f1,1)]\n",
    "eval_model(f1, 'allrb20', '-validation-target', levdis_files_path)\n",
    "print('target done')"
   ]
  },
  {
   "attachments": {},
   "cell_type": "markdown",
   "metadata": {},
   "source": [
    "### Function for drawing a histogram of the Leveneshtein Distances"
   ]
  },
  {
   "cell_type": "code",
   "execution_count": 19,
   "metadata": {},
   "outputs": [],
   "source": [
    "def draw_hist(in_file, xlim, ylim, title):\n",
    "\n",
    "    fig , ax = plt.subplots(1, 1, figsize = (20, 10))\n",
    "\n",
    "    with open(in_file, encoding='utf-8') as file:\n",
    "        dists = []\n",
    "        for line in file:\n",
    "            res = line.rstrip().split(' ')\n",
    "            dists.append(int(res[1]))\n",
    "        dists.sort()\n",
    "        \n",
    "        ax.title.set_text(title)\n",
    "\n",
    "        ax.set_xlim(xlim)\n",
    "        ax.set_ylim(ylim)\n",
    "        ax.hist(dists, bins = dists)   \n",
    "         \n",
    "        plt.show()"
   ]
  },
  {
   "attachments": {},
   "cell_type": "markdown",
   "metadata": {},
   "source": [
    "#### The rest of the example (drawing the figures)"
   ]
  },
  {
   "cell_type": "code",
   "execution_count": 6,
   "metadata": {},
   "outputs": [
    {
     "data": {
      "text/plain": [
       "['output-files\\\\levdis-files-8s100p20-rb-10dB\\\\8s100p20-test-ntns',\n",
       " 'output-files\\\\levdis-files-8s100p20-rb-10dB\\\\8s100p20-test-nts',\n",
       " 'output-files\\\\levdis-files-8s100p20-rb-10dB\\\\8s100p20-test-target',\n",
       " 'output-files\\\\levdis-files-8s100p20-rb-10dB\\\\8s100p20-validation-ntns',\n",
       " 'output-files\\\\levdis-files-8s100p20-rb-10dB\\\\8s100p20-validation-nts',\n",
       " 'output-files\\\\levdis-files-8s100p20-rb-10dB\\\\8s100p20-validation-target']"
      ]
     },
     "execution_count": 6,
     "metadata": {},
     "output_type": "execute_result"
    }
   ],
   "source": [
    "input_files = []\n",
    "for root_dir, cur_dir, files in os.walk(r'output-files\\\\levdis-files-8s100p20-rb-10dB'):\n",
    "    for fname in files:\n",
    "        input_files.append(os.path.join('output-files\\\\levdis-files-8s100p20-rb-10dB', fname))\n",
    "input_files"
   ]
  },
  {
   "cell_type": "code",
   "execution_count": null,
   "metadata": {},
   "outputs": [],
   "source": [
    "xlim = [0,50]\n",
    "ylim = [0,100]\n",
    "\n",
    "draw_hist(input_files[0], xlim, ylim, \"Lev Dist histogram for validation-ntns\")\n"
   ]
  },
  {
   "cell_type": "code",
   "execution_count": null,
   "metadata": {},
   "outputs": [],
   "source": [
    "xlim = [0,50]\n",
    "ylim = [0,100]\n",
    "\n",
    "draw_hist(input_files[1], xlim, ylim, \"Lev Dist histogram for validation-nts\")"
   ]
  },
  {
   "cell_type": "code",
   "execution_count": null,
   "metadata": {},
   "outputs": [],
   "source": [
    "xlim = [0,50]\n",
    "ylim = [0,100]\n",
    "\n",
    "draw_hist(input_files[2], xlim, ylim, \"Lev Dist histogram for validation-target\")\n"
   ]
  },
  {
   "attachments": {},
   "cell_type": "markdown",
   "metadata": {},
   "source": [
    "### Function for calculating accuracy when a threshold is set on the leveneshtein distance of an audio file to mark it as target/non-target."
   ]
  },
  {
   "cell_type": "code",
   "execution_count": 8,
   "metadata": {},
   "outputs": [
    {
     "data": {
      "image/png": "[encoded data removed]",
      "text/plain": [
       "<Figure size 1500x500 with 1 Axes>"
      ]
     },
     "metadata": {},
     "output_type": "display_data"
    },
    {
     "name": "stdout",
     "output_type": "stream",
     "text": [
      "accuracy at 7.00: 0.817016317016317\n",
      "accuracy at 1:  0.6864801864801865\n"
     ]
    }
   ],
   "source": [
    "spl_word = '.wav '\n",
    "total_file = 0\n",
    "acc = []\n",
    "val1 = []\n",
    "val2 = []\n",
    "val3 = []\n",
    "thresh_range = range(0,16)\n",
    "with open(input_files[0], encoding='utf-8') as file:\n",
    "    for line in file:\n",
    "        total_file += 1\n",
    "        res = line.rstrip().split(spl_word, 1)\n",
    "        val1.append(int(res[1]))\n",
    "with open(input_files[1], encoding='utf-8') as file:\n",
    "    for line in file:\n",
    "        total_file += 1\n",
    "        res = line.rstrip().split(spl_word, 1)\n",
    "        val2.append(int(res[1]))\n",
    "with open(input_files[2], encoding='utf-8') as file:\n",
    "    for line in file:\n",
    "        total_file += 1\n",
    "        res = line.rstrip().split(spl_word, 1)\n",
    "        val3.append(int(res[1]))\n",
    "     \n",
    "for thresh in thresh_range:\n",
    "    correct = sum(i > thresh for i in val1) + sum(i > thresh for i in val2) + sum(i <= thresh for i in val3)\n",
    "    acc.append(correct/total_file)\n",
    "\n",
    "plt.rcParams[\"figure.figsize\"] = (15,5)\n",
    "plt.plot(thresh_range,acc)\n",
    "plt.xticks(thresh_range, thresh_range)\n",
    "plt.xlabel('Threshold')\n",
    "plt.ylabel('Accuracy') \n",
    "plt.title('Acurracy of labeling an audio as tagert/non-target when a threshold is set on the leveneshtein distance of the audio file')\n",
    "plt.grid()   \n",
    "plt.ylim([0.30, 1.0])  \n",
    "plt.show()\n",
    "\n",
    "an_array = np.array(acc)\n",
    "index = np.argmax(an_array)\n",
    "print(\"accuracy at {i:.2f}: {a}\".format(i = index, a = acc[index])) #remember to change index for test files\n",
    "print(\"accuracy at 1: \", acc[1])"
   ]
  },
  {
   "attachments": {},
   "cell_type": "markdown",
   "metadata": {},
   "source": [
    "# Section 3:"
   ]
  },
  {
   "attachments": {},
   "cell_type": "markdown",
   "metadata": {},
   "source": [
    "## Find files that were a false positive/negative when we used the best threshold"
   ]
  },
  {
   "cell_type": "code",
   "execution_count": 10,
   "metadata": {},
   "outputs": [
    {
     "data": {
      "text/plain": [
       "['output-files\\\\levdis-files-8s100p20-rb\\\\8s100p20-ntns',\n",
       " 'output-files\\\\levdis-files-8s100p20-rb\\\\8s100p20-nts',\n",
       " 'output-files\\\\levdis-files-8s100p20-rb\\\\8s100p20-target',\n",
       " 'output-files\\\\levdis-files-8s100p20-rb\\\\8s100p20-test-ntns',\n",
       " 'output-files\\\\levdis-files-8s100p20-rb\\\\8s100p20-test-nts',\n",
       " 'output-files\\\\levdis-files-8s100p20-rb\\\\8s100p20-test-target']"
      ]
     },
     "execution_count": 10,
     "metadata": {},
     "output_type": "execute_result"
    }
   ],
   "source": [
    "input_files = []\n",
    "for root_dir, cur_dir, files in os.walk(r'output-files\\\\levdis-files-8s100p20-rb'):\n",
    "    for fname in files:\n",
    "        input_files.append(os.path.join('output-files\\\\levdis-files-8s100p20-rb', fname))\n",
    "input_files"
   ]
  },
  {
   "attachments": {},
   "cell_type": "markdown",
   "metadata": {},
   "source": [
    "Output the name of the files which were a false positive on the most accurate threshold"
   ]
  },
  {
   "cell_type": "code",
   "execution_count": null,
   "metadata": {},
   "outputs": [],
   "source": [
    "test_files = []\n",
    "accurate_thresh = 5\n",
    "with open(input_files[0], encoding='utf-8') as file:\n",
    "    for line in file:\n",
    "        res = line.rstrip().split()\n",
    "        if int(res[1]) <= accurate_thresh:\n",
    "            test_files.append(res[0])\n",
    "            print(res[0])\n",
    "with open(input_files[1], encoding='utf-8') as file:\n",
    "    for line in file:\n",
    "        res = line.rstrip().split()\n",
    "        if int(res[1]) <= accurate_thresh:\n",
    "            test_files.append(res[0])\n",
    "            print(res[0])"
   ]
  },
  {
   "cell_type": "code",
   "execution_count": 13,
   "metadata": {},
   "outputs": [
    {
     "name": "stdout",
     "output_type": "stream",
     "text": [
      ".\\validation-target\\102_f_target_8.wav\n",
      ".\\validation-target\\117_f_target_7.wav\n",
      ".\\validation-target\\22_m_target_6.wav\n",
      ".\\validation-target\\35_f_target_10.wav\n",
      ".\\validation-target\\41_f_target_10.wav\n",
      ".\\validation-target\\63_f_target_15.wav\n",
      ".\\validation-target\\63_f_target_20.wav\n"
     ]
    }
   ],
   "source": [
    "test_files = []\n",
    "accurate_thresh = 1\n",
    "with open(input_files[2], encoding='utf-8') as file:\n",
    "    for line in file:\n",
    "        res = line.rstrip().split()\n",
    "        if int(res[1]) > accurate_thresh:\n",
    "            test_files.append(res[0])\n",
    "            print(res[0])"
   ]
  },
  {
   "cell_type": "code",
   "execution_count": 15,
   "metadata": {},
   "outputs": [
    {
     "name": "stdout",
     "output_type": "stream",
     "text": [
      "['r', 'o', 'b', 'a', 't', 'e', 'h', 'e', 'ʃ', 't', 'i']\n",
      "['r', 'o', 'b', 'a', 't', 'e', 'b', 'e', 'h', 'ʃ', 't', 'e', 'ʃ', 't']\n",
      "['r', 'o', 'r', 'a', 't', 'e', 'b', 'e', 'ʃ', 't', 'i']\n",
      "['b', 'a', 't', 'e', 'b', 'e', 'h', 'e', 'ʃ', 't', 'i']\n",
      "['r', 'o', 'b', 'a', 't', 'e', 'b', 'e', 'ʃ', 't', 'i']\n",
      "['r', 'o', 'b', 'a', 't', 'e', 'b', 'e', 'h', 'e', 'ʃ', 'e', 'ʃ', 'i']\n",
      "['r', 'o', 'b', 'a', 't', 'e', 'b', 'e', 'h', 'e', 'ʃ', 't', 'i', 't', 'e', 'i']\n"
     ]
    }
   ],
   "source": [
    "recognizer = read_recognizer('allrb20')\n",
    "for fi in test_files:\n",
    "    phones = recognizer.recognize(fi, lang_id=\"pes\")\n",
    "    if phones is None:\n",
    "        continue\n",
    "    phones = phones.rstrip().split()\n",
    "    # print(fi , \" : \" , phones)\n",
    "    print(phones)"
   ]
  },
  {
   "attachments": {},
   "cell_type": "markdown",
   "metadata": {},
   "source": [
    "# Section 4"
   ]
  },
  {
   "attachments": {},
   "cell_type": "markdown",
   "metadata": {},
   "source": [
    "## Using confidence of each output phone for calculating the levenshtein distance (topk=2)"
   ]
  },
  {
   "attachments": {},
   "cell_type": "markdown",
   "metadata": {},
   "source": [
    "Up until now, the 'conf' input to the leveneshtein distance function were all None. What if we use that variable though?"
   ]
  },
  {
   "attachments": {},
   "cell_type": "markdown",
   "metadata": {},
   "source": [
    "To get the confidence values as an output from Allosaurus, the topk argument needs to be bigger than or equal to 2. However, we only need the confidence value for the top symbol, so we would need to process the output furthur and extract the top symbol and confidence value."
   ]
  },
  {
   "cell_type": "code",
   "execution_count": 11,
   "metadata": {},
   "outputs": [],
   "source": [
    "target_phone_list = ['r', 'o', 'b', 'a', 't', 'e', 'b', 'e', 'h', 'e', 'ʃ', 't', 'i']\n",
    "\n",
    "#get leveneshtein distance for input files using the input model and k=2\n",
    "#in order to obtain the confidence for each produced phone in the output.\n",
    "def get_levdist_with_k(filenames, model_name, extra_name, levdis_files_path, actual_symbols = None):\n",
    "    recognizer = read_recognizer(model_name)\n",
    "\n",
    "    #make output file which will contain the results\n",
    "    output_fd = open(os.path.join(levdis_files_path, model_name + extra_name), 'w', encoding='utf-8') \n",
    "\n",
    "    for i in range(len(filenames)):\n",
    "        rec_out = recognizer.recognize(filenames[i], lang_id=\"pes\", topk=2)\n",
    "        if rec_out is None:\n",
    "            continue\n",
    "        #an example of an output (rec_out): 'r (0.871) l (0.121) | m (0.771) n (0.031) | ...'\n",
    "        rec_out = rec_out.rstrip().split() #split on spaces\n",
    "\n",
    "        #only the top phone is needed so for the above example we need 'r', 'm', ...\n",
    "        phones = rec_out[::5]\n",
    "        \n",
    "        #only the top confidence is needed so for the above example we need '(0.871)', '(0.771)', ...\n",
    "        #but we need the float numbers and not the strings so parentheses should be removed first and then the number be converted to float\n",
    "        confidence = [float(re.sub(r'[()]', '', val)) for key,val in enumerate(rec_out) if key % 5 == 1] \n",
    "\n",
    "        dist = 0.0\n",
    "        if actual_symbols is not None:\n",
    "            dist = levenshteinDistance(actual_symbols[i], phones, confidence) #weighted lev distance\n",
    "        else:\n",
    "            dist = levenshteinDistance(target_phone_list, phones, confidence) #weighted lev distance\n",
    "\n",
    "        output_fd.write(filenames[i] + ' ' + str(dist) + '\\n')\n",
    "\n",
    "    output_fd.close()"
   ]
  },
  {
   "cell_type": "code",
   "execution_count": 12,
   "metadata": {},
   "outputs": [
    {
     "name": "stdout",
     "output_type": "stream",
     "text": [
      "ntns done\n",
      "nts done\n",
      "target done\n",
      "ntns done\n",
      "nts done\n",
      "target done\n"
     ]
    }
   ],
   "source": [
    "#folder where output text files will be written\n",
    "levdis_files_path = '.\\\\output-files\\\\levdis-files-8s100p20-rb-with-k'\n",
    "\n",
    "parent_test_path = '.\\\\test-ntns' \n",
    "f1 = os.listdir(parent_test_path)\n",
    "f1 = [(parent_test_path + '\\\\' + val) for key,val in enumerate(f1,1)]\n",
    "get_levdist_with_k(f1, '8s100p20', '-test-ntns', levdis_files_path)\n",
    "print('ntns done')\n",
    "\n",
    "\n",
    "parent_test_path = '.\\\\test-nts' \n",
    "f1 = os.listdir(parent_test_path)\n",
    "f1 = [(parent_test_path + '\\\\' + val) for key,val in enumerate(f1,1)]\n",
    "get_levdist_with_k(f1, '8s100p20', '-test-nts', levdis_files_path)\n",
    "print('nts done')\n",
    "\n",
    "parent_test_path = '.\\\\test-target' \n",
    "f1 = os.listdir(parent_test_path)\n",
    "f1 = [(parent_test_path + '\\\\' + val) for key,val in enumerate(f1,1)]\n",
    "get_levdist_with_k(f1, '8s100p20', '-test-target', levdis_files_path)\n",
    "print('target done')\n",
    "\n",
    "parent_test_path = '.\\\\validation-ntns' \n",
    "f1 = os.listdir(parent_test_path)\n",
    "f1 = [(parent_test_path + '\\\\' + val) for key,val in enumerate(f1,1)]\n",
    "get_levdist_with_k(f1, '8s100p20', '-validation-ntns', levdis_files_path)\n",
    "print('ntns done')\n",
    "\n",
    "parent_test_path = '.\\\\validation-nts' \n",
    "f1 = os.listdir(parent_test_path)\n",
    "f1 = [(parent_test_path + '\\\\' + val) for key,val in enumerate(f1,1)]\n",
    "get_levdist_with_k(f1, '8s100p20', '-validation-nts', levdis_files_path)\n",
    "print('nts done')\n",
    "\n",
    "parent_test_path = '.\\\\validation-target' \n",
    "f1 = os.listdir(parent_test_path)\n",
    "f1 = [(parent_test_path + '\\\\' + val) for key,val in enumerate(f1,1)]\n",
    "get_levdist_with_k(f1, '8s100p20', '-validation-target', levdis_files_path)\n",
    "print('target done')"
   ]
  },
  {
   "cell_type": "code",
   "execution_count": 14,
   "metadata": {},
   "outputs": [
    {
     "name": "stdout",
     "output_type": "stream",
     "text": [
      "ntns done\n",
      "nts done\n",
      "target done\n",
      "ntns done\n",
      "nts done\n",
      "target done\n"
     ]
    }
   ],
   "source": [
    "#folder where output text files will be written\n",
    "levdis_files_path = '.\\\\output-files\\\\levdis-files-8s100p20allrb30-rb-with-k'\n",
    "\n",
    "parent_test_path = '.\\\\test-ntns' \n",
    "f1 = os.listdir(parent_test_path)\n",
    "f1 = [(parent_test_path + '\\\\' + val) for key,val in enumerate(f1,1)]\n",
    "get_levdist_with_k(f1, '8s100p20allrb30', '-test-ntns', levdis_files_path)\n",
    "print('ntns done')\n",
    "\n",
    "\n",
    "parent_test_path = '.\\\\test-nts' \n",
    "f1 = os.listdir(parent_test_path)\n",
    "f1 = [(parent_test_path + '\\\\' + val) for key,val in enumerate(f1,1)]\n",
    "get_levdist_with_k(f1, '8s100p20allrb30', '-test-nts', levdis_files_path)\n",
    "print('nts done')\n",
    "\n",
    "parent_test_path = '.\\\\test-target' \n",
    "f1 = os.listdir(parent_test_path)\n",
    "f1 = [(parent_test_path + '\\\\' + val) for key,val in enumerate(f1,1)]\n",
    "get_levdist_with_k(f1, '8s100p20allrb30', '-test-target', levdis_files_path)\n",
    "print('target done')\n",
    "\n",
    "parent_test_path = '.\\\\validation-ntns' \n",
    "f1 = os.listdir(parent_test_path)\n",
    "f1 = [(parent_test_path + '\\\\' + val) for key,val in enumerate(f1,1)]\n",
    "get_levdist_with_k(f1, '8s100p20allrb30', '-validation-ntns', levdis_files_path)\n",
    "print('ntns done')\n",
    "\n",
    "parent_test_path = '.\\\\validation-nts' \n",
    "f1 = os.listdir(parent_test_path)\n",
    "f1 = [(parent_test_path + '\\\\' + val) for key,val in enumerate(f1,1)]\n",
    "get_levdist_with_k(f1, '8s100p20allrb30', '-validation-nts', levdis_files_path)\n",
    "print('nts done')\n",
    "\n",
    "parent_test_path = '.\\\\validation-target' \n",
    "f1 = os.listdir(parent_test_path)\n",
    "f1 = [(parent_test_path + '\\\\' + val) for key,val in enumerate(f1,1)]\n",
    "get_levdist_with_k(f1, '8s100p20allrb30', '-validation-target', levdis_files_path)\n",
    "print('target done')"
   ]
  },
  {
   "cell_type": "code",
   "execution_count": 17,
   "metadata": {},
   "outputs": [
    {
     "data": {
      "text/plain": [
       "['output-files\\\\levdis-files-8s100p20-rb-with-k\\\\8s100p20-test-ntns',\n",
       " 'output-files\\\\levdis-files-8s100p20-rb-with-k\\\\8s100p20-test-nts',\n",
       " 'output-files\\\\levdis-files-8s100p20-rb-with-k\\\\8s100p20-test-target',\n",
       " 'output-files\\\\levdis-files-8s100p20-rb-with-k\\\\8s100p20-validation-ntns',\n",
       " 'output-files\\\\levdis-files-8s100p20-rb-with-k\\\\8s100p20-validation-nts',\n",
       " 'output-files\\\\levdis-files-8s100p20-rb-with-k\\\\8s100p20-validation-target']"
      ]
     },
     "execution_count": 17,
     "metadata": {},
     "output_type": "execute_result"
    }
   ],
   "source": [
    "filenames = os.listdir('.\\\\output-files\\\\levdis-files-8s100p20-rb-with-k')\n",
    "input_files = []\n",
    "for fname in filenames:\n",
    "    input_files.append(os.path.join('output-files\\\\levdis-files-8s100p20-rb-with-k', fname))\n",
    "input_files"
   ]
  },
  {
   "cell_type": "code",
   "execution_count": 18,
   "metadata": {},
   "outputs": [
    {
     "data": {
      "image/png": "[encoded data removed]",
      "text/plain": [
       "<Figure size 1500x500 with 1 Axes>"
      ]
     },
     "metadata": {},
     "output_type": "display_data"
    },
    {
     "name": "stdout",
     "output_type": "stream",
     "text": [
      "accuracy at 4.60: 0.8967082860385925\n",
      "accuracy at 4.80:  0.8944381384790011\n"
     ]
    }
   ],
   "source": [
    "total_file = 0\n",
    "acc = []\n",
    "val1 = []\n",
    "val2 = []\n",
    "val3 = []\n",
    "thresh_range = np.arange(0, 15.05, 0.05)\n",
    "with open(input_files[3], encoding='utf-8') as file:\n",
    "    for line in file:\n",
    "        total_file += 1\n",
    "        res = line.rstrip().split( )\n",
    "        val1.append(float(res[1]))\n",
    "with open(input_files[4], encoding='utf-8') as file:\n",
    "    for line in file:\n",
    "        total_file += 1\n",
    "        res = line.rstrip().split()\n",
    "        val2.append(float(res[1]))\n",
    "with open(input_files[5], encoding='utf-8') as file:\n",
    "    for line in file:\n",
    "        total_file += 1\n",
    "        res = line.rstrip().split()\n",
    "        val3.append(float(res[1]))\n",
    "     \n",
    "for thresh in thresh_range:\n",
    "    correct = sum(i > thresh for i in val1) + sum(i > thresh for i in val2) + sum(i <= thresh for i in val3)\n",
    "    acc.append(correct/total_file)\n",
    "\n",
    "plt.rcParams[\"figure.figsize\"] = (15,5)\n",
    "plt.plot(thresh_range,acc)\n",
    "plt.xticks(range(0, 16), range(0, 16))\n",
    "plt.xlabel('Threshold')\n",
    "plt.ylabel('Accuracy') \n",
    "plt.title('Acurracy of labeling an audio as tagert/non-target when a threshold is set on the leveneshtein distance of the audio file')\n",
    "plt.grid()   \n",
    "plt.ylim([0.00, 1.0])  \n",
    "plt.show()\n",
    "\n",
    "an_array = np.array(acc)\n",
    "index = np.argmax(an_array)\n",
    "print(\"accuracy at {i:.2f}: {a}\".format(i = index*0.05, a = acc[index])) #remember to change index for test files\n",
    "print(\"accuracy at 4.80: \", acc[int(4.8*20)])"
   ]
  },
  {
   "cell_type": "code",
   "execution_count": 45,
   "metadata": {},
   "outputs": [
    {
     "data": {
      "text/plain": [
       "['output-files\\\\levdis-files-allrb20-rb-15dB-with-k\\\\allrb20-test-ntns',\n",
       " 'output-files\\\\levdis-files-allrb20-rb-15dB-with-k\\\\allrb20-test-nts',\n",
       " 'output-files\\\\levdis-files-allrb20-rb-15dB-with-k\\\\allrb20-test-target',\n",
       " 'output-files\\\\levdis-files-allrb20-rb-15dB-with-k\\\\allrb20-validation-ntns',\n",
       " 'output-files\\\\levdis-files-allrb20-rb-15dB-with-k\\\\allrb20-validation-nts',\n",
       " 'output-files\\\\levdis-files-allrb20-rb-15dB-with-k\\\\allrb20-validation-target']"
      ]
     },
     "execution_count": 45,
     "metadata": {},
     "output_type": "execute_result"
    }
   ],
   "source": [
    "filenames = os.listdir('.\\\\output-files\\\\levdis-files-allrb20-rb-15dB-with-k')\n",
    "input_files = []\n",
    "for fname in filenames:\n",
    "    input_files.append(os.path.join('output-files\\\\levdis-files-allrb20-rb-15dB-with-k', fname))\n",
    "input_files"
   ]
  },
  {
   "cell_type": "code",
   "execution_count": 53,
   "metadata": {},
   "outputs": [
    {
     "name": "stdout",
     "output_type": "stream",
     "text": [
      ".\\test-target-15dB\\107_m_target_9.wav\n",
      ".\\test-target-15dB\\132_f_target_1.wav\n",
      ".\\test-target-15dB\\132_f_target_2.wav\n",
      ".\\test-target-15dB\\132_f_target_3.wav\n",
      ".\\test-target-15dB\\132_f_target_4.wav\n",
      ".\\test-target-15dB\\132_f_target_5.wav\n",
      ".\\test-target-15dB\\132_f_target_6.wav\n",
      ".\\test-target-15dB\\132_f_target_8.wav\n",
      ".\\test-target-15dB\\13_f_target_6.wav\n",
      ".\\test-target-15dB\\148_m_target_2.wav\n",
      ".\\test-target-15dB\\167_f_target_10.wav\n",
      ".\\test-target-15dB\\6_f_target_10.wav\n",
      ".\\test-target-15dB\\6_f_target_2.wav\n",
      ".\\test-target-15dB\\6_f_target_5.wav\n",
      ".\\test-target-15dB\\6_f_target_9.wav\n",
      ".\\test-target-15dB\\74_f_target_2.wav\n",
      ".\\test-target-15dB\\77_f_target_11.wav\n",
      ".\\test-target-15dB\\77_f_target_12.wav\n",
      ".\\test-target-15dB\\77_f_target_6.wav\n",
      ".\\test-target-15dB\\91_m_target_3.wav\n",
      ".\\test-target-15dB\\91_m_target_4.wav\n",
      ".\\test-target-15dB\\91_m_target_8.wav\n",
      ".\\validation-target-15dB\\100_f_target_5.wav\n",
      ".\\validation-target-15dB\\100_f_target_7.wav\n",
      ".\\validation-target-15dB\\113_f_target_11.wav\n",
      ".\\validation-target-15dB\\117_f_target_5.wav\n",
      ".\\validation-target-15dB\\160_f_target_5.wav\n",
      ".\\validation-target-15dB\\22_m_target_6.wav\n",
      ".\\validation-target-15dB\\57_f_target_4.wav\n",
      ".\\validation-target-15dB\\63_f_target_11.wav\n",
      ".\\validation-target-15dB\\63_f_target_15.wav\n",
      ".\\validation-target-15dB\\63_f_target_16.wav\n",
      ".\\validation-target-15dB\\63_f_target_17.wav\n",
      ".\\validation-target-15dB\\63_f_target_18.wav\n",
      ".\\validation-target-15dB\\63_f_target_20.wav\n",
      ".\\validation-target-15dB\\63_f_target_3.wav\n",
      ".\\validation-target-15dB\\63_f_target_7.wav\n",
      ".\\validation-target-15dB\\63_f_target_8.wav\n",
      ".\\validation-target-15dB\\63_f_target_9.wav\n"
     ]
    }
   ],
   "source": [
    "test_files = []\n",
    "accurate_thresh = 2\n",
    "with open(input_files[2], encoding='utf-8') as file:\n",
    "    for line in file:\n",
    "        res = line.rstrip().split()\n",
    "        if float(res[1]) > accurate_thresh:\n",
    "            test_files.append(res[0])\n",
    "            print(res[0])\n",
    "with open(input_files[5], encoding='utf-8') as file:\n",
    "    for line in file:\n",
    "        res = line.rstrip().split()\n",
    "        if float(res[1]) > accurate_thresh:\n",
    "            test_files.append(res[0])\n",
    "            print(res[0])"
   ]
  },
  {
   "cell_type": "code",
   "execution_count": 54,
   "metadata": {},
   "outputs": [
    {
     "name": "stdout",
     "output_type": "stream",
     "text": [
      "r (0.718) <blk> (0.245) | o (0.923) a (0.076) | b (0.920) t (0.079) | e (0.943) <blk> (0.050) | h (0.891) e (0.088) | e (1.000) h (0.000) | ʃ (0.858) <blk> (0.127) | t (0.952) <blk> (0.048) | i (1.000) e (0.000)\n",
      "r (0.943) <blk> (0.054) | o (0.999) a (0.001) | b (0.634) <blk> (0.361) | a (0.994) e (0.004) | t (0.811) <blk> (0.124) | e (0.972) <blk> (0.017) | ʃ (0.592) t (0.172) | i (1.000) <blk> (0.000)\n",
      "r (0.991) <blk> (0.009) | o (0.999) r (0.000) | b (0.999) r (0.001) | a (0.846) e (0.132) | e (0.606) <blk> (0.350) | b (0.988) t (0.009) | e (0.967) <blk> (0.026) | ʃ (0.668) <blk> (0.297) | t (0.994) ʃ (0.005) | i (0.999) e (0.001)\n",
      "r (0.997) <blk> (0.002) | o (0.824) r (0.152) | b (0.987) r (0.012) | a (0.963) e (0.014) | t (0.864) e (0.069) | e (1.000) i (0.000) | ʃ (0.998) t (0.002) | i (0.999) e (0.000)\n",
      "r (0.993) l (0.007) | o (0.718) r (0.170) | b (0.776) <blk> (0.202) | a (0.941) e (0.057) | t (0.867) e (0.117) | e (0.989) <blk> (0.007) | ʃ (0.986) e (0.010) | t (0.998) ʃ (0.002) | i (1.000) j (0.000)\n",
      "r (0.557) <blk> (0.442) | o (0.993) r (0.005) | b (0.999) ɡ (0.000) | a (0.990) o (0.004) | t (0.798) e (0.168) | e (0.513) t (0.465) | ʃ (0.714) <blk> (0.152) | t (0.999) <blk> (0.001) | i (1.000) t (0.000)\n",
      "r (0.996) <blk> (0.003) | o (1.000) <blk> (0.000) | b (1.000) ɡ (0.000) | a (0.994) e (0.006) | t (0.916) e (0.074) | e (1.000) i (0.000) | ʃ (0.953) e (0.040) | t (0.723) <blk> (0.276) | i (1.000) j (0.000)\n",
      "r (0.520) <blk> (0.480) | o (1.000) r (0.000) | b (1.000) <blk> (0.000) | a (0.890) e (0.103) | t (0.972) e (0.023) | e (0.546) t (0.413) | ʃ (0.827) <blk> (0.160) | i (1.000) e (0.000)\n",
      "r (0.999) <blk> (0.001) | o (1.000) <blk> (0.000) | b (0.999) r (0.001) | a (0.896) o (0.101) | t (0.991) <blk> (0.008) | e (0.996) a (0.002) | b (0.640) t (0.354) | e (0.999) a (0.001) | b (0.615) r (0.205) | e (0.684) o (0.137)\n",
      "r (0.999) l (0.001) | o (0.952) u (0.046) | b (1.000) r (0.000) | e (0.625) a (0.184) | t (0.576) b (0.348) | e (0.999) a (0.001) | b (0.727) t (0.167) | e (0.600) <blk> (0.384) | ʃ (0.927) <blk> (0.047) | t (0.699) <blk> (0.301) | i (0.676) <blk> (0.310)\n",
      "o (0.646) <blk> (0.353) | b (0.885) <blk> (0.115) | e (0.998) <blk> (0.002) | ʃ (1.000) t͡ʃʲ (0.000) | t (0.842) <blk> (0.158) | i (1.000) <blk> (0.000)\n",
      "r (1.000) <blk> (0.000) | o (1.000) u (0.000) | b (1.000) v (0.000) | a (0.999) o (0.000) | t (1.000) b (0.000) | e (1.000) i (0.000) | t (0.986) h (0.006) | i (0.897) <blk> (0.085)\n",
      "r (0.768) <blk> (0.196) | b (0.997) r (0.002) | e (0.572) a (0.426) | t (0.914) <blk> (0.079) | e (0.997) a (0.001) | b (0.681) r (0.125) | e (0.945) <blk> (0.053) | t (0.951) b (0.042) | e (1.000) a (0.000) | h (0.983) b (0.014) | e (0.989) i (0.006) | t (0.805) <blk> (0.095) | i (0.996) e (0.002)\n",
      "r (0.711) b (0.247) | b (0.652) h (0.116) | e (0.905) i (0.057) | b (0.855) m (0.069) | e (0.994) a (0.003) | t (0.640) f (0.279) | e (0.984) a (0.015) | b (0.962) ɡ (0.017) | e (0.998) i (0.001) | h (0.720) <blk> (0.249) | e (0.703) <blk> (0.232) | h (0.500) <blk> (0.428) | e (0.956) i (0.018) | ʃ (0.496) <blk> (0.181) | e (0.755) <blk> (0.233) | t (0.855) ʃ (0.057) | e (0.443) i (0.407) | b (0.726) <blk> (0.162) | e (0.762) <blk> (0.140)\n",
      "r (0.750) t (0.113) | i (0.592) e (0.255) | b (0.770) r (0.228) | e (0.431) o (0.382) | o (0.473) <blk> (0.298) | b (0.994) t (0.003) | a (0.772) <blk> (0.095) | t (0.493) <blk> (0.461) | e (0.504) a (0.404) | b (0.946) t (0.052) | e (0.998) a (0.001) | h (0.883) t (0.068) | e (0.919) i (0.077) | ʃ (0.637) <blk> (0.225) | t (0.990) ʃ (0.004) | i (0.999) <blk> (0.001)\n",
      "r (0.941) <blk> (0.051) | o (0.874) <blk> (0.124) | b (1.000) <blk> (0.000) | a (0.970) o (0.015) | b (0.999) <blk> (0.001) | e (0.711) a (0.260) | t (0.996) ʃ (0.001) | e (1.000) <blk> (0.000) | b (0.998) p (0.001) | e (0.980) <blk> (0.020) | h (0.917) e (0.070) | e (0.971) <blk> (0.025) | ʃ (1.000) t͡ʃʲ (0.000)\n",
      "r (0.559) <blk> (0.438) | b (0.740) r (0.246) | a (0.621) o (0.300) | t (0.999) b (0.001) | e (0.764) <blk> (0.117) | b (0.605) t (0.196) | i (0.720) e (0.228) | b (0.722) <blk> (0.149) | e (0.974) <blk> (0.023) | ʃ (0.842) <blk> (0.154) | t (0.881) <blk> (0.111) | i (0.969) <blk> (0.022)\n",
      "r (0.769) <blk> (0.218) | o (0.903) <blk> (0.092) | b (0.968) r (0.028) | o (0.712) a (0.243) | t (1.000) d (0.000) | e (0.997) <blk> (0.001) | b (0.999) r (0.000) | e (0.997) b (0.001) | b (0.785) <blk> (0.161) | e (0.995) <blk> (0.004) | h (0.576) <blk> (0.421) | e (0.852) <blk> (0.126) | ʃ (1.000) <blk> (0.000) | t (0.742) <blk> (0.258) | i (0.897) e (0.101)\n",
      "t (0.479) r (0.303) | e (0.939) o (0.038) | b (1.000) p (0.000) | e (0.999) a (0.000) | h (0.917) <blk> (0.039) | e (0.984) <blk> (0.015) | t (0.849) <blk> (0.147) | i (0.986) <blk> (0.009)\n",
      "r (0.997) <blk> (0.001) | o (0.998) a (0.001) | b (1.000) ɡ (0.000) | a (1.000) e (0.000) | t (0.995) <blk> (0.002) | e (1.000) b (0.000) | b (0.739) t (0.114) | e (0.944) h (0.037) | h (0.768) <blk> (0.179)\n",
      "b (0.797) r (0.177) | a (0.756) o (0.243) | t (0.999) e (0.001) | e (0.973) <blk> (0.016) | b (0.867) <blk> (0.107) | e (0.991) i (0.007) | b (0.997) h (0.001) | e (1.000) a (0.000) | ʃ (0.995) x (0.003) | t (0.999) <blk> (0.000) | i (1.000) e (0.000)\n",
      "t (0.943) <blk> (0.019) | o (0.927) u (0.053) | b (0.982) r (0.012) | e (0.835) r (0.076) | ʃ (0.978) h (0.018) | t (1.000) ʃ (0.000) | i (0.998) <blk> (0.001)\n",
      "r (0.999) <blk> (0.001) | o (0.999) ɒ (0.000) | b (0.999) p (0.000) | a (0.985) e (0.006) | t (0.974) h (0.016) | e (0.995) <blk> (0.004) | b (0.999) v (0.001) | h (0.650) e (0.342) | i (0.536) <blk> (0.463)\n",
      "r (1.000) l (0.000) | o (1.000) <blk> (0.000) | b (1.000) m (0.000) | a (0.999) <blk> (0.000) | t (0.995) <blk> (0.004) | e (0.996) <blk> (0.004) | b (0.999) t (0.001) | e (1.000) <blk> (0.000) | h (0.967) <blk> (0.033)\n",
      "r (0.956) <blk> (0.032) | o (0.971) <blk> (0.028) | b (1.000) v (0.000) | a (0.998) e (0.001) | h (0.472) <blk> (0.443) | t (0.935) ʃ (0.064) | e (0.994) i (0.006) | h (0.513) b (0.448) | e (0.998) i (0.002) | h (0.996) b (0.001) | e (0.857) i (0.143) | ʃ (0.999) t͡ʃʲ (0.001) | t (0.973) <blk> (0.018) | i (0.980) e (0.015) | t (0.442) ʃ (0.294) | i (0.996) <blk> (0.003)\n",
      "r (0.986) <blk> (0.007) | o (0.979) ɒ (0.013) | b (0.813) <blk> (0.184) | e (0.573) a (0.224) | t (0.572) e (0.257) | b (0.778) t (0.139) | e (0.841) <blk> (0.112) | h (0.943) <blk> (0.050) | ʃ (0.710) <blk> (0.233) | t (1.000) <blk> (0.000) | i (0.999) <blk> (0.000)\n",
      "o (0.862) <blk> (0.102) | b (0.704) r (0.251) | a (0.857) o (0.125) | t (0.971) ʃ (0.009) | e (0.759) i (0.202) | b (0.631) r (0.334) | r (0.658) <blk> (0.181) | e (0.605) i (0.213) | h (0.577) <blk> (0.332) | e (0.728) i (0.229) | t (0.681) <blk> (0.313) | i (0.612) <blk> (0.381)\n",
      "o (0.445) <blk> (0.333) | r (0.893) o (0.084) | a (0.992) o (0.007) | t (1.000) b (0.000) | e (0.999) b (0.001) | b (0.600) e (0.286) | h (0.939) e (0.042) | e (0.969) h (0.030) | h (0.398) <blk> (0.379) | ʃ (0.997) e (0.002) | t (0.585) <blk> (0.414) | i (0.634) <blk> (0.255)\n",
      "r (1.000) <blk> (0.000) | o (1.000) a (0.000) | b (0.999) <blk> (0.001) | a (0.984) o (0.016) | t (1.000) <blk> (0.000) | e (0.999) a (0.000) | b (0.537) <blk> (0.448) | e (1.000) <blk> (0.000) | h (1.000) <blk> (0.000) | e (1.000) i (0.000) | ʃ (1.000) t (0.000) | t (1.000) b (0.000) | e (0.977) <blk> (0.011) | t (0.833) d (0.061) | e (0.740) i (0.205)\n",
      "r (1.000) t (0.000) | o (0.686) <blk> (0.311) | e (0.973) <blk> (0.014) | b (0.599) t (0.315) | e (0.987) o (0.008) | h (0.637) <blk> (0.233) | e (0.633) i (0.259) | ʃ (0.988) <blk> (0.009) | t (0.512) <blk> (0.454) | i (0.997) e (0.002)\n",
      "r (0.849) <blk> (0.121) | b (0.566) r (0.373) | a (0.623) o (0.264) | t (0.844) <blk> (0.068) | e (0.837) <blk> (0.063) | i (0.872) <blk> (0.084) | ʃ (0.554) <blk> (0.426) | ʔ (0.849) <blk> (0.144)\n",
      "r (1.000) <blk> (0.000) | o (0.999) <blk> (0.000) | b (0.673) <blk> (0.211) | t (0.890) b (0.070) | e (0.834) i (0.128) | b (0.612) <blk> (0.315) | e (0.622) <blk> (0.322) | b (0.492) <blk> (0.250) | e (0.777) i (0.190) | t (0.625) <blk> (0.372) | i (0.941) <blk> (0.041)\n",
      "r (0.957) <blk> (0.038) | o (0.973) u (0.014) | b (0.794) <blk> (0.143) | e (0.591) <blk> (0.152) | b (0.471) h (0.401) | e (0.938) i (0.022) | ʃ (0.997) t (0.001) | t (0.913) <blk> (0.086) | i (0.980) e (0.011)\n",
      "r (0.862) t (0.037) | o (0.977) r (0.013) | b (1.000) <blk> (0.000) | a (0.913) e (0.052)\n",
      "r (0.960) <blk> (0.036) | o (0.857) <blk> (0.129) | b (0.484) <blk> (0.376) | a (0.423) <blk> (0.418) | b (0.506) <blk> (0.247) | a (0.284) o (0.261) | b (0.697) t (0.123) | e (0.617) i (0.137)\n",
      "r (0.992) <blk> (0.006) | o (0.990) <blk> (0.007) | r (0.970) b (0.022) | o (0.798) e (0.153) | t (0.980) b (0.009) | e (0.946) a (0.040) | t (0.984) b (0.009) | e (0.995) i (0.004) | h (0.826) <blk> (0.147) | e (0.580) <blk> (0.413) | i (0.700) <blk> (0.292)\n",
      "r (1.000) l (0.000) | o (0.996) e (0.002) | b (0.876) <blk> (0.118) | t (0.592) <blk> (0.390) | b (0.570) t (0.427) | e (0.923) i (0.056) | b (0.938) t (0.025) | e (0.992) i (0.005) | t (0.437) r (0.436) | o (0.963) e (0.023) | b (0.504) h (0.426) | e (0.863) i (0.060) | ʃ (0.526) <blk> (0.433) | i (0.838) <blk> (0.148)\n",
      "b (0.522) r (0.427) | o (0.636) e (0.320) | r (0.998) b (0.001) | o (0.966) a (0.019) | b (1.000) t (0.000) | a (0.951) e (0.038) | t (0.501) <blk> (0.498) | e (0.999) i (0.001) | t (0.626) b (0.211) | e (0.999) i (0.001) | h (0.803) <blk> (0.196) | e (0.997) <blk> (0.001) | ʃ (0.975) t (0.011) | t (0.993) <blk> (0.006) | i (0.997) u (0.002)\n",
      "r (0.817) b (0.173) | o (0.884) e (0.067) | b (0.676) <blk> (0.294) | e (0.993) i (0.005) | b (0.937) t (0.051) | a (0.858) e (0.078) | b (0.990) <blk> (0.009) | e (0.998) <blk> (0.001) | t (0.518) b (0.475) | e (0.991) i (0.009) | h (0.964) <blk> (0.028) | e (0.959) i (0.036) | ʃ (0.997) <blk> (0.001) | r (0.420) <blk> (0.256) | a (0.536) ɒ (0.176)\n"
     ]
    }
   ],
   "source": [
    "recognizer = read_recognizer('allrb20')\n",
    "for fi in test_files:\n",
    "    phones = recognizer.recognize(fi, lang_id=\"pes\", topk=2)\n",
    "    if phones is None:\n",
    "        continue\n",
    "    # phones = phones.rstrip().split()\n",
    "    print(phones)"
   ]
  },
  {
   "cell_type": "code",
   "execution_count": null,
   "metadata": {},
   "outputs": [],
   "source": []
  }
 ],
 "metadata": {
  "kernelspec": {
   "display_name": "Python 3",
   "language": "python",
   "name": "python3"
  },
  "language_info": {
   "codemirror_mode": {
    "name": "ipython",
    "version": 3
   },
   "file_extension": ".py",
   "mimetype": "text/x-python",
   "name": "python",
   "nbconvert_exporter": "python",
   "pygments_lexer": "ipython3",
   "version": "3.9.13"
  },
  "orig_nbformat": 4,
  "vscode": {
   "interpreter": {
    "hash": "d7b85f7e30fa8e0ca9fec571e41547833fe04c8641d75fbfeb4910946fdec3df"
   }
  }
 },
 "nbformat": 4,
 "nbformat_minor": 2
}
