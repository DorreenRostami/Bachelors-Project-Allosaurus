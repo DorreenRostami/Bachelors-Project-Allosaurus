{
 "cells": [
  {
   "cell_type": "code",
   "execution_count": 1,
   "metadata": {},
   "outputs": [
    {
     "name": "stderr",
     "output_type": "stream",
     "text": [
      "c:\\Users\\dorre\\AppData\\Local\\Programs\\Python\\Python39\\lib\\site-packages\\tqdm\\auto.py:22: TqdmWarning: IProgress not found. Please update jupyter and ipywidgets. See https://ipywidgets.readthedocs.io/en/stable/user_install.html\n",
      "  from .autonotebook import tqdm as notebook_tqdm\n"
     ]
    }
   ],
   "source": [
    "from allosaurus.app import read_recognizer\n",
    "import matplotlib.pyplot as plt\n",
    "import numpy as np\n",
    "import os\n",
    "import re"
   ]
  },
  {
   "attachments": {},
   "cell_type": "markdown",
   "metadata": {},
   "source": [
    "# In this notebook, we are going to find the best insertion cost value "
   ]
  },
  {
   "attachments": {},
   "cell_type": "markdown",
   "metadata": {},
   "source": [
    "When we want to edit string B in order to change it into string A, String B being the Allosaurus output and A being the wake word, we only know the confidence score of the phones already within B. This means that when we want to insert a new phone into string B, we don't know how much the edit will cost. \n"
   ]
  },
  {
   "attachments": {},
   "cell_type": "markdown",
   "metadata": {},
   "source": [
    "Here, we are going to execute a grid search on different insertion costs in order to find the best answer."
   ]
  },
  {
   "cell_type": "code",
   "execution_count": 2,
   "metadata": {},
   "outputs": [],
   "source": [
    "#This function will get the phone and the confidence score of that phone of an input audio file\n",
    "#and then write them into a text file\n",
    "def get_phones(filenames, model_name, output_file_name_extra, output_folder_path):\n",
    "    recognizer = read_recognizer(model_name)\n",
    "\n",
    "    #output file for writing the results\n",
    "    output_fd = open(os.path.join(output_folder_path, model_name + output_file_name_extra), 'w', encoding='utf-8') \n",
    "\n",
    "    for i in range(len(filenames)):\n",
    "        rec_out = recognizer.recognize(filenames[i], lang_id=\"pes\", topk=2)\n",
    "        if rec_out is None:\n",
    "            continue\n",
    "        #an example of an output (rec_out): 'r (0.871) l (0.121) | m (0.771) n (0.031) | ...'\n",
    "        rec_out = rec_out.rstrip().split() #split on spaces\n",
    "\n",
    "        #only the top phone is needed so for the above example we need 'r', 'm', ...\n",
    "        phones = rec_out[::5]\n",
    "        \n",
    "        #only the top confidence is needed so for the above example we need '(0.871)', '(0.771)', ...\n",
    "        #but we need the float numbers and not the strings so parentheses should be removed first and then the number be converted to float\n",
    "        confidence = [float(re.sub(r'[()]', '', val)) for key,val in enumerate(rec_out) if key % 5 == 1] \n",
    "\n",
    "        output_fd.write(filenames[i])\n",
    "        for i in range(len(phones)):\n",
    "            output_fd.write(' ' + str(phones[i]) + ' ' + str(confidence[i]))\n",
    "        output_fd.write('\\n')\n",
    "\n",
    "    output_fd.close()\n"
   ]
  },
  {
   "cell_type": "code",
   "execution_count": 6,
   "metadata": {},
   "outputs": [
    {
     "name": "stdout",
     "output_type": "stream",
     "text": [
      "ntns done\n",
      "nts done\n",
      "target done\n",
      "ntns done\n",
      "nts done\n",
      "target done\n"
     ]
    }
   ],
   "source": [
    "output_folder_path = '.\\\\output-files\\\\phones-8s100p20allrb30-rb'\n",
    "\n",
    "parent_test_path = '.\\\\test-ntns' \n",
    "f1 = os.listdir(parent_test_path)\n",
    "f1 = [(parent_test_path + '\\\\' + val) for key,val in enumerate(f1,1)]\n",
    "get_phones(f1, '8s100p20allrb30', '-test-ntns', output_folder_path)\n",
    "print('ntns done')\n",
    "\n",
    "parent_test_path = '.\\\\test-nts' \n",
    "f1 = os.listdir(parent_test_path)\n",
    "f1 = [(parent_test_path + '\\\\' + val) for key,val in enumerate(f1,1)]\n",
    "get_phones(f1, '8s100p20allrb30', '-test-nts', output_folder_path)\n",
    "print('nts done')\n",
    "\n",
    "parent_test_path = '.\\\\test-target' \n",
    "f1 = os.listdir(parent_test_path)\n",
    "f1 = [(parent_test_path + '\\\\' + val) for key,val in enumerate(f1,1)]\n",
    "get_phones(f1, '8s100p20allrb30', '-test-target', output_folder_path)\n",
    "print('target done')\n",
    "\n",
    "parent_test_path = '.\\\\validation-ntns' \n",
    "f1 = os.listdir(parent_test_path)\n",
    "f1 = [(parent_test_path + '\\\\' + val) for key,val in enumerate(f1,1)]\n",
    "get_phones(f1, '8s100p20allrb30', '-validation-ntns', output_folder_path)\n",
    "print('ntns done')\n",
    "\n",
    "parent_test_path = '.\\\\validation-nts' \n",
    "f1 = os.listdir(parent_test_path)\n",
    "f1 = [(parent_test_path + '\\\\' + val) for key,val in enumerate(f1,1)]\n",
    "get_phones(f1, '8s100p20allrb30', '-validation-nts', output_folder_path)\n",
    "print('nts done')\n",
    "\n",
    "parent_test_path = '.\\\\validation-target' \n",
    "f1 = os.listdir(parent_test_path)\n",
    "f1 = [(parent_test_path + '\\\\' + val) for key,val in enumerate(f1,1)]\n",
    "get_phones(f1, '8s100p20allrb30', '-validation-target', output_folder_path)\n",
    "print('target done')"
   ]
  },
  {
   "cell_type": "code",
   "execution_count": 4,
   "metadata": {},
   "outputs": [],
   "source": [
    "#list1: list of expected symbols\n",
    "#list2: list of output symbols (output of allosaurus)\n",
    "#conf: list of confidence for output symbols (output of allosaurus when k>=2)\n",
    "def levenshteinDistance(list1, list2, ins_cost = 1, ins_coef = 1, del_coef = 1, sub_coef = 1, conf = None):\n",
    "    m = len(list1)\n",
    "    n = len(list2)\n",
    "    d = [[i] for i in range(1, m + 1)]   # d matrix rows\n",
    "    d.insert(0, list(range(0, n + 1)))   # d matrix columns\n",
    "    for j in range(1, n + 1):\n",
    "        for i in range(1, m + 1):\n",
    "            if list1[i - 1] == list2[j - 1]: #Python compares strings and characters the same way => each list element can be a single character or a string (word)\n",
    "                substitutionCost = 0\n",
    "            else:\n",
    "                if conf is None:\n",
    "                    substitutionCost = 1\n",
    "                else:\n",
    "                    substitutionCost = conf[j-1]\n",
    "            if conf is None:\n",
    "                d[i].insert(j, min(d[i - 1][j] + ins_coef * 1,                         #insertion to list2/deletion from list1\n",
    "                                   d[i][j - 1] + del_coef * 1,                         #deletion from list2/insertion to list1\n",
    "                                   d[i - 1][j - 1] + sub_coef * substitutionCost))     #substitution\n",
    "            else: \n",
    "                d[i].insert(j, min(d[i - 1][j] + ins_coef * ins_cost,                     #insertion to list2/deletion from list1\n",
    "                                   d[i][j - 1] + del_coef * conf[j-1],                 #deletion from list2/insertion to list1\n",
    "                                   d[i - 1][j - 1] + sub_coef * substitutionCost))     #substitution\n",
    "    return d[-1][-1]"
   ]
  },
  {
   "cell_type": "code",
   "execution_count": 7,
   "metadata": {},
   "outputs": [
    {
     "data": {
      "text/plain": [
       "['output-files\\\\phones-8s100p20allrb30-rb\\\\8s100p20allrb30-test-ntns',\n",
       " 'output-files\\\\phones-8s100p20allrb30-rb\\\\8s100p20allrb30-test-nts',\n",
       " 'output-files\\\\phones-8s100p20allrb30-rb\\\\8s100p20allrb30-test-target',\n",
       " 'output-files\\\\phones-8s100p20allrb30-rb\\\\8s100p20allrb30-validation-ntns',\n",
       " 'output-files\\\\phones-8s100p20allrb30-rb\\\\8s100p20allrb30-validation-nts',\n",
       " 'output-files\\\\phones-8s100p20allrb30-rb\\\\8s100p20allrb30-validation-target']"
      ]
     },
     "execution_count": 7,
     "metadata": {},
     "output_type": "execute_result"
    }
   ],
   "source": [
    "filenames = os.listdir('.\\\\output-files\\\\phones-8s100p20allrb30-rb')\n",
    "input_files = []\n",
    "for fname in filenames:\n",
    "    input_files.append(os.path.join('output-files\\\\phones-8s100p20allrb30-rb', fname))\n",
    "input_files"
   ]
  },
  {
   "cell_type": "code",
   "execution_count": 11,
   "metadata": {},
   "outputs": [
    {
     "name": "stdout",
     "output_type": "stream",
     "text": [
      "0.51\n"
     ]
    }
   ],
   "source": [
    "target_pho = ['r', 'o', 'b', 'a', 't', 'e', 'b', 'e', 'h', 'e', 'ʃ', 't', 'i']\n",
    "\n",
    "thresh_range = np.arange(0, 15.05, 0.05)\n",
    "ins_cost_range = np.arange(0, 1.01, 0.01)\n",
    "max_acc = []\n",
    "\n",
    "for cost_i in ins_cost_range:\n",
    "    total_file = 0\n",
    "    val1 = []\n",
    "    val2 = []\n",
    "    val3 = []\n",
    "    acc = []\n",
    "    with open(input_files[3], encoding='utf-8') as file: #validation-ntns\n",
    "        for line in file:\n",
    "            total_file += 1\n",
    "            res = line.rstrip().split( )\n",
    "            pho = res[1::2] #phone\n",
    "            con_str = res[2::2] #confidence score of phone\n",
    "            con = [float(x) for x in con_str]\n",
    "            val1.append(levenshteinDistance(target_pho, pho, ins_cost = cost_i, conf = con))\n",
    "\n",
    "    with open(input_files[4], encoding='utf-8') as file: #validation-nts\n",
    "        for line in file:\n",
    "            total_file += 1\n",
    "            res = line.rstrip().split( )\n",
    "            pho = res[1::2]\n",
    "            con_str = res[2::2]\n",
    "            con = [float(x) for x in con_str]\n",
    "            val2.append(levenshteinDistance(target_pho, pho, ins_cost = cost_i, conf = con)) \n",
    "\n",
    "    with open(input_files[5], encoding='utf-8') as file: #validation-target\n",
    "        for line in file: \n",
    "            total_file += 1\n",
    "            res = line.rstrip().split( )\n",
    "            pho = res[1::2]\n",
    "            con_str = res[2::2]\n",
    "            con = [float(x) for x in con_str]\n",
    "            val3.append(levenshteinDistance(target_pho, pho, ins_cost = cost_i, conf = con))\n",
    "\n",
    "    for thresh in thresh_range:\n",
    "        correct = sum(i > thresh for i in val1) + sum(i > thresh for i in val2) + sum(i <= thresh for i in val3)\n",
    "        acc.append(correct/total_file)\n",
    "\n",
    "    max_acc.append(max(acc))\n",
    "\n",
    "max_value = max(max_acc)\n",
    "max_index = max_acc.index(max_value)\n",
    "best_ins_cost = max_index / 100\n",
    "print(best_ins_cost)"
   ]
  },
  {
   "cell_type": "code",
   "execution_count": 33,
   "metadata": {},
   "outputs": [
    {
     "data": {
      "text/plain": [
       "0.9909194097616345"
      ]
     },
     "execution_count": 33,
     "metadata": {},
     "output_type": "execute_result"
    }
   ],
   "source": [
    "max_acc[100]"
   ]
  },
  {
   "cell_type": "code",
   "execution_count": 36,
   "metadata": {},
   "outputs": [
    {
     "data": {
      "image/png": "[encoded data removed]",
      "text/plain": [
       "<Figure size 1500x500 with 1 Axes>"
      ]
     },
     "metadata": {},
     "output_type": "display_data"
    }
   ],
   "source": [
    "plt.rcParams[\"figure.figsize\"] = (15,5)\n",
    "plt.plot(ins_cost_range, max_acc)\n",
    "plt.xticks(np.arange(0, 10.5, 0.5)/10, np.arange(0, 10.5, 0.5)/100)\n",
    "plt.xlabel('Insertion Cost')\n",
    "plt.ylabel('Max Accuracy') \n",
    "plt.title('Max accuracy obtained on different thresholds when using different insertion costs')\n",
    "plt.grid()   \n",
    "plt.ylim([0.95, 1.0])  \n",
    "plt.show()"
   ]
  },
  {
   "attachments": {},
   "cell_type": "markdown",
   "metadata": {},
   "source": [
    "## We can see that an insertion cost of 1 works just fine"
   ]
  }
 ],
 "metadata": {
  "kernelspec": {
   "display_name": "Python 3",
   "language": "python",
   "name": "python3"
  },
  "language_info": {
   "codemirror_mode": {
    "name": "ipython",
    "version": 3
   },
   "file_extension": ".py",
   "mimetype": "text/x-python",
   "name": "python",
   "nbconvert_exporter": "python",
   "pygments_lexer": "ipython3",
   "version": "3.9.13"
  },
  "orig_nbformat": 4,
  "vscode": {
   "interpreter": {
    "hash": "d7b85f7e30fa8e0ca9fec571e41547833fe04c8641d75fbfeb4910946fdec3df"
   }
  }
 },
 "nbformat": 4,
 "nbformat_minor": 2
}
