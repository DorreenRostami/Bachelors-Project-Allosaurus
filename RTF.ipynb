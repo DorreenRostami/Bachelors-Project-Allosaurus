{
 "cells": [
  {
   "cell_type": "code",
   "execution_count": 1,
   "metadata": {},
   "outputs": [
    {
     "name": "stderr",
     "output_type": "stream",
     "text": [
      "c:\\Users\\dorre\\AppData\\Local\\Programs\\Python\\Python39\\lib\\site-packages\\tqdm\\auto.py:22: TqdmWarning: IProgress not found. Please update jupyter and ipywidgets. See https://ipywidgets.readthedocs.io/en/stable/user_install.html\n",
      "  from .autonotebook import tqdm as notebook_tqdm\n"
     ]
    }
   ],
   "source": [
    "from allosaurus.app import read_recognizer\n",
    "import matplotlib.pyplot as plt\n",
    "import numpy as np\n",
    "import wave\n",
    "import contextlib\n",
    "import timeit"
   ]
  },
  {
   "cell_type": "code",
   "execution_count": 2,
   "metadata": {},
   "outputs": [],
   "source": [
    "parent_test_path = '.\\\\FARSDAT-parent-all\\\\test' \n",
    "\n",
    "test_text = parent_test_path + '\\\\text'\n",
    "symbols = []\n",
    "filenames = []\n",
    "with open(test_text, encoding='utf-8') as file:\n",
    "    for line in file:\n",
    "        res = line.rstrip().split(' ')\n",
    "        symbols.append(res[1:])\n",
    "\n",
    "test_wave = parent_test_path + '\\\\wave'\n",
    "with open(test_wave, encoding='utf-8') as file:\n",
    "    for line in file:\n",
    "        res = line.rstrip().split(' ')\n",
    "        filenames.append(res[1])"
   ]
  },
  {
   "cell_type": "code",
   "execution_count": 3,
   "metadata": {},
   "outputs": [
    {
     "data": {
      "text/plain": [
       "2190.697125"
      ]
     },
     "execution_count": 3,
     "metadata": {},
     "output_type": "execute_result"
    }
   ],
   "source": [
    "total_duration = 0\n",
    "for filename in filenames:\n",
    "    with contextlib.closing(wave.open(filename,'r')) as f:\n",
    "        frames = f.getnframes()\n",
    "        rate = f.getframerate()\n",
    "        duration = frames / float(rate)\n",
    "        total_duration += duration\n",
    "total_duration        "
   ]
  },
  {
   "cell_type": "code",
   "execution_count": 4,
   "metadata": {},
   "outputs": [],
   "source": [
    "model_name = '8s100p20'\n",
    "recognizer = read_recognizer(model_name)"
   ]
  },
  {
   "cell_type": "code",
   "execution_count": 5,
   "metadata": {},
   "outputs": [],
   "source": [
    "def recognize_files():\n",
    "    for filename in filenames:\n",
    "        recognizer.recognize(filename, lang_id=\"pes\")"
   ]
  },
  {
   "cell_type": "code",
   "execution_count": 6,
   "metadata": {},
   "outputs": [
    {
     "data": {
      "text/plain": [
       "103.18313662"
      ]
     },
     "execution_count": 6,
     "metadata": {},
     "output_type": "execute_result"
    }
   ],
   "source": [
    "loop = 10\n",
    "\n",
    "result = timeit.timeit('recognize_files()', globals=globals(), number=loop)\n",
    "avg_process_time = result / loop\n",
    "avg_process_time"
   ]
  },
  {
   "cell_type": "code",
   "execution_count": 7,
   "metadata": {},
   "outputs": [
    {
     "data": {
      "text/plain": [
       "0.0471005943461947"
      ]
     },
     "execution_count": 7,
     "metadata": {},
     "output_type": "execute_result"
    }
   ],
   "source": [
    "rtf = avg_process_time / total_duration\n",
    "rtf"
   ]
  },
  {
   "cell_type": "code",
   "execution_count": null,
   "metadata": {},
   "outputs": [],
   "source": []
  }
 ],
 "metadata": {
  "kernelspec": {
   "display_name": "Python 3",
   "language": "python",
   "name": "python3"
  },
  "language_info": {
   "codemirror_mode": {
    "name": "ipython",
    "version": 3
   },
   "file_extension": ".py",
   "mimetype": "text/x-python",
   "name": "python",
   "nbconvert_exporter": "python",
   "pygments_lexer": "ipython3",
   "version": "3.9.13 (tags/v3.9.13:6de2ca5, May 17 2022, 16:36:42) [MSC v.1929 64 bit (AMD64)]"
  },
  "orig_nbformat": 4,
  "vscode": {
   "interpreter": {
    "hash": "d7b85f7e30fa8e0ca9fec571e41547833fe04c8641d75fbfeb4910946fdec3df"
   }
  }
 },
 "nbformat": 4,
 "nbformat_minor": 2
}
